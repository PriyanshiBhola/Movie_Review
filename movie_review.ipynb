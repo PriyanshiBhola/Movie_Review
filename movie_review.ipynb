{
  "nbformat": 4,
  "nbformat_minor": 0,
  "metadata": {
    "colab": {
      "name": "movie_review.ipynb",
      "version": "0.3.2",
      "provenance": []
    },
    "kernelspec": {
      "name": "python3",
      "display_name": "Python 3"
    },
    "accelerator": "GPU"
  },
  "cells": [
    {
      "metadata": {
        "id": "3m1k2DJKhChG",
        "colab_type": "code",
        "colab": {}
      },
      "cell_type": "code",
      "source": [
        "from nltk.corpus import movie_reviews"
      ],
      "execution_count": 0,
      "outputs": []
    },
    {
      "metadata": {
        "id": "dBoxNoMdhMso",
        "colab_type": "code",
        "colab": {
          "base_uri": "https://localhost:8080/",
          "height": 72
        },
        "outputId": "1d8e8a67-72dd-47bc-890f-48ded6305d5e"
      },
      "cell_type": "code",
      "source": [
        "\n",
        "import nltk\n",
        "nltk.download('stopwords')"
      ],
      "execution_count": 0,
      "outputs": [
        {
          "output_type": "stream",
          "text": [
            "[nltk_data] Downloading package stopwords to /content/nltk_data...\n",
            "[nltk_data]   Unzipping corpora/stopwords.zip.\n"
          ],
          "name": "stdout"
        },
        {
          "output_type": "execute_result",
          "data": {
            "text/plain": [
              "True"
            ]
          },
          "metadata": {
            "tags": []
          },
          "execution_count": 2
        }
      ]
    },
    {
      "metadata": {
        "id": "w_jMVqJgho20",
        "colab_type": "code",
        "colab": {}
      },
      "cell_type": "code",
      "source": [
        "from nltk.corpus import stopwords"
      ],
      "execution_count": 0,
      "outputs": []
    },
    {
      "metadata": {
        "id": "vSuCp3VphXy7",
        "colab_type": "code",
        "colab": {}
      },
      "cell_type": "code",
      "source": [
        "import string"
      ],
      "execution_count": 0,
      "outputs": []
    },
    {
      "metadata": {
        "id": "DWAt9hAJhZP6",
        "colab_type": "code",
        "colab": {}
      },
      "cell_type": "code",
      "source": [
        "stop=stopwords.words('english')"
      ],
      "execution_count": 0,
      "outputs": []
    },
    {
      "metadata": {
        "id": "fJFrR8dFheYh",
        "colab_type": "code",
        "colab": {}
      },
      "cell_type": "code",
      "source": [
        "punct=list(string.punctuation)"
      ],
      "execution_count": 0,
      "outputs": []
    },
    {
      "metadata": {
        "id": "RPeA0pfzh3K5",
        "colab_type": "code",
        "colab": {}
      },
      "cell_type": "code",
      "source": [
        "stop=stop+punct"
      ],
      "execution_count": 0,
      "outputs": []
    },
    {
      "metadata": {
        "id": "PeMxUYyYh5J6",
        "colab_type": "code",
        "colab": {
          "base_uri": "https://localhost:8080/",
          "height": 72
        },
        "outputId": "ba4b4f12-eafb-420f-e7bc-7c364335b226"
      },
      "cell_type": "code",
      "source": [
        "import nltk\n",
        "nltk.download('movie_reviews')"
      ],
      "execution_count": 0,
      "outputs": [
        {
          "output_type": "stream",
          "text": [
            "[nltk_data] Downloading package movie_reviews to /content/nltk_data...\n",
            "[nltk_data]   Unzipping corpora/movie_reviews.zip.\n"
          ],
          "name": "stdout"
        },
        {
          "output_type": "execute_result",
          "data": {
            "text/plain": [
              "True"
            ]
          },
          "metadata": {
            "tags": []
          },
          "execution_count": 8
        }
      ]
    },
    {
      "metadata": {
        "id": "EsPsdvpEiD_h",
        "colab_type": "code",
        "colab": {
          "base_uri": "https://localhost:8080/",
          "height": 35
        },
        "outputId": "0c8fc3a2-dde8-41b1-b64f-d6804dfd41df"
      },
      "cell_type": "code",
      "source": [
        "movie_reviews.categories()"
      ],
      "execution_count": 0,
      "outputs": [
        {
          "output_type": "execute_result",
          "data": {
            "text/plain": [
              "['neg', 'pos']"
            ]
          },
          "metadata": {
            "tags": []
          },
          "execution_count": 9
        }
      ]
    },
    {
      "metadata": {
        "id": "iwnROB2AiKwA",
        "colab_type": "code",
        "colab": {}
      },
      "cell_type": "code",
      "source": [
        "documents=[]\n",
        "for  category in movie_reviews.categories():\n",
        "  for fileid in movie_reviews.fileids(category):\n",
        "    documents.append((movie_reviews.words(fileid),category))"
      ],
      "execution_count": 0,
      "outputs": []
    },
    {
      "metadata": {
        "id": "i939w7CZinOU",
        "colab_type": "code",
        "colab": {
          "base_uri": "https://localhost:8080/",
          "height": 35
        },
        "outputId": "3bff56dd-e1fc-4f81-b6fa-784c75e579ba"
      },
      "cell_type": "code",
      "source": [
        "len(documents)"
      ],
      "execution_count": 0,
      "outputs": [
        {
          "output_type": "execute_result",
          "data": {
            "text/plain": [
              "2000"
            ]
          },
          "metadata": {
            "tags": []
          },
          "execution_count": 11
        }
      ]
    },
    {
      "metadata": {
        "id": "pLdM4P5EiuGk",
        "colab_type": "code",
        "colab": {}
      },
      "cell_type": "code",
      "source": [
        "# shuffliing the documents  \n",
        "import random\n",
        "random.shuffle(documents)"
      ],
      "execution_count": 0,
      "outputs": []
    },
    {
      "metadata": {
        "id": "F2QLNxmyjDqm",
        "colab_type": "code",
        "colab": {
          "base_uri": "https://localhost:8080/",
          "height": 72
        },
        "outputId": "502f11d8-594b-4058-f99e-aaf958e76293"
      },
      "cell_type": "code",
      "source": [
        "import nltk\n",
        "nltk.download('wordnet')"
      ],
      "execution_count": 0,
      "outputs": [
        {
          "output_type": "stream",
          "text": [
            "[nltk_data] Downloading package wordnet to /content/nltk_data...\n",
            "[nltk_data]   Unzipping corpora/wordnet.zip.\n"
          ],
          "name": "stdout"
        },
        {
          "output_type": "execute_result",
          "data": {
            "text/plain": [
              "True"
            ]
          },
          "metadata": {
            "tags": []
          },
          "execution_count": 13
        }
      ]
    },
    {
      "metadata": {
        "id": "FpNxaADwi01T",
        "colab_type": "code",
        "colab": {}
      },
      "cell_type": "code",
      "source": [
        "from nltk.corpus import wordnet"
      ],
      "execution_count": 0,
      "outputs": []
    },
    {
      "metadata": {
        "id": "5eyFdU5Ti6XV",
        "colab_type": "code",
        "colab": {}
      },
      "cell_type": "code",
      "source": [
        "from nltk.stem import WordNetLemmatizer\n",
        "lem=WordNetLemmatizer()"
      ],
      "execution_count": 0,
      "outputs": []
    },
    {
      "metadata": {
        "id": "qbv_9pJ2i6aP",
        "colab_type": "code",
        "colab": {}
      },
      "cell_type": "code",
      "source": [
        "def get_simple_pos(tag):\n",
        "    if tag.startswith('J'):\n",
        "        return wordnet.ADJ\n",
        "    elif tag.startswith('V'):\n",
        "        return wordnet.VERB\n",
        "    elif tag.startswith('N'):\n",
        "        return wordnet.NOUN\n",
        "    elif tag.startswith('R'):\n",
        "        return wordnet.ADJ\n",
        "    else:\n",
        "        return wordnet.NOUN"
      ],
      "execution_count": 0,
      "outputs": []
    },
    {
      "metadata": {
        "id": "nxlqWayKkMe6",
        "colab_type": "code",
        "colab": {}
      },
      "cell_type": "code",
      "source": [
        "from nltk import  pos_tag"
      ],
      "execution_count": 0,
      "outputs": []
    },
    {
      "metadata": {
        "id": "KMOrA61lkMoA",
        "colab_type": "code",
        "colab": {
          "base_uri": "https://localhost:8080/",
          "height": 90
        },
        "outputId": "9848b5f4-6181-4714-a998-4688928f0c2c"
      },
      "cell_type": "code",
      "source": [
        "import nltk\n",
        "nltk.download('averaged_perceptron_tagger')"
      ],
      "execution_count": 0,
      "outputs": [
        {
          "output_type": "stream",
          "text": [
            "[nltk_data] Downloading package averaged_perceptron_tagger to\n",
            "[nltk_data]     /content/nltk_data...\n",
            "[nltk_data]   Unzipping taggers/averaged_perceptron_tagger.zip.\n"
          ],
          "name": "stdout"
        },
        {
          "output_type": "execute_result",
          "data": {
            "text/plain": [
              "True"
            ]
          },
          "metadata": {
            "tags": []
          },
          "execution_count": 18
        }
      ]
    },
    {
      "metadata": {
        "id": "fWm2-6iHjIsn",
        "colab_type": "code",
        "colab": {}
      },
      "cell_type": "code",
      "source": [
        "def clean_review(words):\n",
        "    output_words=[]\n",
        "    for w in words:\n",
        "        if w.lower() not in stop:\n",
        "          pos=pos_tag([w])\n",
        "          clean_words=lem.lemmatize(w,pos=get_simple_pos(pos[0][1]))\n",
        "          output_words.append(clean_words.lower())\n",
        "    return output_words"
      ],
      "execution_count": 0,
      "outputs": []
    },
    {
      "metadata": {
        "id": "zFh30BL8jdpX",
        "colab_type": "code",
        "colab": {}
      },
      "cell_type": "code",
      "source": [
        "documents=[ (clean_review(documents),category)   for documents ,category in documents]"
      ],
      "execution_count": 0,
      "outputs": []
    },
    {
      "metadata": {
        "id": "uFkEOSGvkHCg",
        "colab_type": "code",
        "colab": {
          "base_uri": "https://localhost:8080/",
          "height": 35
        },
        "outputId": "b106db9e-91ad-4b89-d76d-50c932a340ad"
      },
      "cell_type": "code",
      "source": [
        "len(documents)"
      ],
      "execution_count": 0,
      "outputs": [
        {
          "output_type": "execute_result",
          "data": {
            "text/plain": [
              "2000"
            ]
          },
          "metadata": {
            "tags": []
          },
          "execution_count": 21
        }
      ]
    },
    {
      "metadata": {
        "id": "BM9LGdeUlBYu",
        "colab_type": "code",
        "colab": {}
      },
      "cell_type": "code",
      "source": [
        "training_documents=documents[0:1500]\n",
        "testing_documents=documents[1500:]"
      ],
      "execution_count": 0,
      "outputs": []
    },
    {
      "metadata": {
        "id": "d0D76SqWlXhc",
        "colab_type": "code",
        "colab": {}
      },
      "cell_type": "code",
      "source": [
        "l=[]\n",
        "l=[(1,2)]"
      ],
      "execution_count": 0,
      "outputs": []
    },
    {
      "metadata": {
        "id": "_l9MFQyAlqiP",
        "colab_type": "code",
        "colab": {
          "base_uri": "https://localhost:8080/",
          "height": 35
        },
        "outputId": "d7e92e2a-1374-45f7-83e8-2eb42832eb86"
      },
      "cell_type": "code",
      "source": [
        "l[0][0]"
      ],
      "execution_count": 0,
      "outputs": [
        {
          "output_type": "execute_result",
          "data": {
            "text/plain": [
              "1"
            ]
          },
          "metadata": {
            "tags": []
          },
          "execution_count": 24
        }
      ]
    },
    {
      "metadata": {
        "id": "8frkfVmllrxZ",
        "colab_type": "code",
        "colab": {}
      },
      "cell_type": "code",
      "source": [
        "all_words=[]\n",
        "for doc  in documents:\n",
        "  #print(doc[0][0])\n",
        "  all_words+=doc[0]"
      ],
      "execution_count": 0,
      "outputs": []
    },
    {
      "metadata": {
        "id": "dkzjAZWjl9yK",
        "colab_type": "code",
        "colab": {}
      },
      "cell_type": "code",
      "source": [
        "import nltk"
      ],
      "execution_count": 0,
      "outputs": []
    },
    {
      "metadata": {
        "id": "DDk-ziYhl_iD",
        "colab_type": "code",
        "colab": {
          "base_uri": "https://localhost:8080/",
          "height": 35
        },
        "outputId": "13dcc7d9-f2e6-4002-e60a-f74a14b9400c"
      },
      "cell_type": "code",
      "source": [
        "freqdist=nltk.FreqDist(all_words)\n",
        "common=freqdist.most_common(3000)\n",
        "print(\"hello\")"
      ],
      "execution_count": 0,
      "outputs": [
        {
          "output_type": "stream",
          "text": [
            "hello\n"
          ],
          "name": "stdout"
        }
      ]
    },
    {
      "metadata": {
        "id": "BJwxsghBmh2k",
        "colab_type": "code",
        "colab": {}
      },
      "cell_type": "code",
      "source": [
        "features=[i[0] for i in common]"
      ],
      "execution_count": 0,
      "outputs": []
    },
    {
      "metadata": {
        "id": "tk7xAytMmjb5",
        "colab_type": "code",
        "colab": {}
      },
      "cell_type": "code",
      "source": [
        "l=[]\n",
        "l=[(\"helllo\",124),(\"hy\",23)\n",
        "]"
      ],
      "execution_count": 0,
      "outputs": []
    },
    {
      "metadata": {
        "id": "6yWGP95EnZto",
        "colab_type": "code",
        "colab": {
          "base_uri": "https://localhost:8080/",
          "height": 54
        },
        "outputId": "11caf100-9c86-42ff-e218-98db95b0354a"
      },
      "cell_type": "code",
      "source": [
        "for i in l:\n",
        "  print(i[1])"
      ],
      "execution_count": 0,
      "outputs": [
        {
          "output_type": "stream",
          "text": [
            "124\n",
            "23\n"
          ],
          "name": "stdout"
        }
      ]
    },
    {
      "metadata": {
        "id": "KMvfnHUGnbMg",
        "colab_type": "code",
        "colab": {}
      },
      "cell_type": "code",
      "source": [
        "def get_feature_dict(words):\n",
        "  current_features={}\n",
        "  word_set=set(words)\n",
        "  for w in features:\n",
        "    current_features[w]= w in word_set\n",
        "  return current_features\n",
        "  \n",
        "  "
      ],
      "execution_count": 0,
      "outputs": []
    },
    {
      "metadata": {
        "id": "dBfx6CTEpezm",
        "colab_type": "code",
        "colab": {}
      },
      "cell_type": "code",
      "source": [
        "training_data=[ (get_feature_dict(doc),category)  for doc,category in training_documents]"
      ],
      "execution_count": 0,
      "outputs": []
    },
    {
      "metadata": {
        "id": "uctu2mnQqHuh",
        "colab_type": "code",
        "colab": {}
      },
      "cell_type": "code",
      "source": [
        "testing_data=[ (get_feature_dict(doc),category)  for doc,category in testing_documents]"
      ],
      "execution_count": 0,
      "outputs": []
    },
    {
      "metadata": {
        "id": "P_lJGV-PqdzK",
        "colab_type": "code",
        "colab": {
          "base_uri": "https://localhost:8080/",
          "height": 18235
        },
        "outputId": "34faf43b-b940-4717-a4a3-c91ece687e28"
      },
      "cell_type": "code",
      "source": [
        "training_data[0]"
      ],
      "execution_count": 0,
      "outputs": [
        {
          "output_type": "execute_result",
          "data": {
            "text/plain": [
              "({'film': True,\n",
              "  'movie': True,\n",
              "  'one': True,\n",
              "  'make': True,\n",
              "  'like': True,\n",
              "  'character': True,\n",
              "  'get': True,\n",
              "  'good': True,\n",
              "  'see': True,\n",
              "  'go': True,\n",
              "  'time': True,\n",
              "  'scene': True,\n",
              "  'even': True,\n",
              "  'story': False,\n",
              "  'take': True,\n",
              "  'would': False,\n",
              "  'much': True,\n",
              "  'come': True,\n",
              "  'also': True,\n",
              "  'bad': False,\n",
              "  'give': True,\n",
              "  'well': True,\n",
              "  'life': False,\n",
              "  'two': False,\n",
              "  'look': True,\n",
              "  'way': True,\n",
              "  'know': False,\n",
              "  'seem': True,\n",
              "  'first': True,\n",
              "  'end': False,\n",
              "  '--': False,\n",
              "  'year': True,\n",
              "  'work': False,\n",
              "  'thing': True,\n",
              "  'plot': True,\n",
              "  'say': True,\n",
              "  'play': False,\n",
              "  'really': True,\n",
              "  'little': False,\n",
              "  'show': True,\n",
              "  'people': False,\n",
              "  'could': False,\n",
              "  'man': True,\n",
              "  'star': True,\n",
              "  'love': True,\n",
              "  'never': True,\n",
              "  'try': True,\n",
              "  'great': True,\n",
              "  'director': False,\n",
              "  'best': False,\n",
              "  'performance': True,\n",
              "  'new': False,\n",
              "  'big': True,\n",
              "  'many': True,\n",
              "  'action': False,\n",
              "  'actor': True,\n",
              "  'want': True,\n",
              "  'u': True,\n",
              "  'watch': False,\n",
              "  'find': False,\n",
              "  'think': True,\n",
              "  'role': True,\n",
              "  'act': True,\n",
              "  'another': True,\n",
              "  'back': True,\n",
              "  'audience': False,\n",
              "  'something': True,\n",
              "  'world': False,\n",
              "  'turn': False,\n",
              "  'still': False,\n",
              "  'day': False,\n",
              "  'old': True,\n",
              "  'set': False,\n",
              "  'however': False,\n",
              "  'use': False,\n",
              "  'every': False,\n",
              "  'begin': False,\n",
              "  'though': True,\n",
              "  'guy': False,\n",
              "  'part': False,\n",
              "  'comedy': True,\n",
              "  'feel': True,\n",
              "  'cast': False,\n",
              "  'real': False,\n",
              "  'enough': False,\n",
              "  'around': True,\n",
              "  'point': False,\n",
              "  'interest': True,\n",
              "  'last': True,\n",
              "  'run': False,\n",
              "  'write': True,\n",
              "  'young': False,\n",
              "  'may': False,\n",
              "  'fact': False,\n",
              "  'name': True,\n",
              "  'long': True,\n",
              "  'funny': True,\n",
              "  'script': False,\n",
              "  'actually': True,\n",
              "  'right': False,\n",
              "  'minute': True,\n",
              "  'woman': False,\n",
              "  'effect': False,\n",
              "  'almost': False,\n",
              "  'lot': True,\n",
              "  'friend': False,\n",
              "  'nothing': True,\n",
              "  'late': True,\n",
              "  'john': False,\n",
              "  'place': True,\n",
              "  'although': False,\n",
              "  'screen': False,\n",
              "  'played': True,\n",
              "  'ever': False,\n",
              "  'start': False,\n",
              "  'moment': True,\n",
              "  'since': False,\n",
              "  'line': True,\n",
              "  'call': True,\n",
              "  'become': False,\n",
              "  'tell': True,\n",
              "  'lead': False,\n",
              "  'kill': False,\n",
              "  'original': True,\n",
              "  'help': True,\n",
              "  'high': False,\n",
              "  'family': False,\n",
              "  'without': True,\n",
              "  'three': True,\n",
              "  'problem': False,\n",
              "  'girl': False,\n",
              "  'picture': False,\n",
              "  'least': False,\n",
              "  'quite': False,\n",
              "  'need': False,\n",
              "  'sequence': False,\n",
              "  'away': True,\n",
              "  'course': False,\n",
              "  'laugh': True,\n",
              "  'far': False,\n",
              "  'might': False,\n",
              "  'fall': False,\n",
              "  'rather': False,\n",
              "  'must': False,\n",
              "  'anything': False,\n",
              "  'include': True,\n",
              "  'put': True,\n",
              "  'bit': False,\n",
              "  'child': False,\n",
              "  'job': True,\n",
              "  'yet': True,\n",
              "  'american': False,\n",
              "  'keep': True,\n",
              "  'follow': True,\n",
              "  'wife': False,\n",
              "  'alien': False,\n",
              "  'kind': False,\n",
              "  'hour': False,\n",
              "  'hard': True,\n",
              "  'always': True,\n",
              "  'reason': False,\n",
              "  'fun': True,\n",
              "  'head': False,\n",
              "  'feature': False,\n",
              "  'attempt': False,\n",
              "  'special': False,\n",
              "  'home': True,\n",
              "  'hand': False,\n",
              "  'human': False,\n",
              "  'hollywood': False,\n",
              "  'instead': False,\n",
              "  'lose': False,\n",
              "  'sense': False,\n",
              "  'move': False,\n",
              "  'war': False,\n",
              "  'mind': True,\n",
              "  'series': True,\n",
              "  'face': False,\n",
              "  'black': False,\n",
              "  'night': False,\n",
              "  'half': False,\n",
              "  'let': False,\n",
              "  'probably': False,\n",
              "  'shot': False,\n",
              "  'kid': False,\n",
              "  'along': True,\n",
              "  'men': False,\n",
              "  'everything': False,\n",
              "  'idea': False,\n",
              "  'pretty': False,\n",
              "  'direct': False,\n",
              "  'becomes': False,\n",
              "  'dialogue': True,\n",
              "  'sure': False,\n",
              "  'together': False,\n",
              "  'force': False,\n",
              "  'money': False,\n",
              "  'involve': False,\n",
              "  'believe': True,\n",
              "  'talk': False,\n",
              "  'father': True,\n",
              "  'save': True,\n",
              "  'whole': False,\n",
              "  'fight': False,\n",
              "  'horror': False,\n",
              "  'death': False,\n",
              "  'appear': False,\n",
              "  'boy': True,\n",
              "  'city': False,\n",
              "  'everyone': False,\n",
              "  'question': False,\n",
              "  'sex': False,\n",
              "  'music': False,\n",
              "  'less': False,\n",
              "  'do': False,\n",
              "  'release': False,\n",
              "  'second': False,\n",
              "  'couple': False,\n",
              "  'thought': False,\n",
              "  'brother': False,\n",
              "  'eye': False,\n",
              "  'perhaps': False,\n",
              "  'small': False,\n",
              "  'case': False,\n",
              "  'next': False,\n",
              "  'early': False,\n",
              "  'especially': False,\n",
              "  'happen': False,\n",
              "  'expect': False,\n",
              "  'meet': True,\n",
              "  'relationship': False,\n",
              "  '10': False,\n",
              "  'mother': False,\n",
              "  'word': False,\n",
              "  'base': False,\n",
              "  'create': True,\n",
              "  'completely': True,\n",
              "  'care': False,\n",
              "  '2': True,\n",
              "  'rest': False,\n",
              "  'whose': True,\n",
              "  'evil': True,\n",
              "  'writer': True,\n",
              "  'change': False,\n",
              "  'different': True,\n",
              "  'james': False,\n",
              "  'simply': False,\n",
              "  'sound': False,\n",
              "  'mean': False,\n",
              "  'book': False,\n",
              "  'mr': False,\n",
              "  'anyone': False,\n",
              "  'school': False,\n",
              "  'joke': False,\n",
              "  'michael': False,\n",
              "  'review': False,\n",
              "  'top': False,\n",
              "  'several': False,\n",
              "  'dead': False,\n",
              "  'humor': True,\n",
              "  'suppose': True,\n",
              "  'live': False,\n",
              "  'lack': True,\n",
              "  'left': False,\n",
              "  'add': False,\n",
              "  'true': False,\n",
              "  'town': False,\n",
              "  'matter': False,\n",
              "  'entire': True,\n",
              "  'hit': False,\n",
              "  'group': False,\n",
              "  'found': False,\n",
              "  'fan': False,\n",
              "  'comic': False,\n",
              "  'soon': False,\n",
              "  'house': False,\n",
              "  'someone': False,\n",
              "  'main': False,\n",
              "  'entertain': False,\n",
              "  'game': False,\n",
              "  'tv': False,\n",
              "  'side': True,\n",
              "  'leave': False,\n",
              "  'wrong': False,\n",
              "  'present': False,\n",
              "  'wonder': False,\n",
              "  'david': False,\n",
              "  'else': False,\n",
              "  'element': False,\n",
              "  'either': False,\n",
              "  'full': False,\n",
              "  'final': False,\n",
              "  'stop': True,\n",
              "  'unfortunately': False,\n",
              "  'viewer': False,\n",
              "  'murder': False,\n",
              "  'car': False,\n",
              "  'open': False,\n",
              "  'style': False,\n",
              "  'enjoy': False,\n",
              "  'return': True,\n",
              "  'support': False,\n",
              "  'camera': False,\n",
              "  'robert': True,\n",
              "  'credit': False,\n",
              "  'provide': True,\n",
              "  'often': False,\n",
              "  'power': True,\n",
              "  'die': False,\n",
              "  'deal': False,\n",
              "  'son': True,\n",
              "  'hero': False,\n",
              "  'behind': True,\n",
              "  'certainly': True,\n",
              "  'person': False,\n",
              "  'title': True,\n",
              "  'result': False,\n",
              "  'team': False,\n",
              "  'despite': False,\n",
              "  'scream': False,\n",
              "  'perfect': False,\n",
              "  'finally': False,\n",
              "  'order': False,\n",
              "  'video': False,\n",
              "  'killer': False,\n",
              "  'nice': False,\n",
              "  'note': True,\n",
              "  'stand': False,\n",
              "  'miss': True,\n",
              "  'piece': False,\n",
              "  'maybe': False,\n",
              "  'summer': False,\n",
              "  'able': False,\n",
              "  'past': False,\n",
              "  'fine': False,\n",
              "  'view': False,\n",
              "  'consider': False,\n",
              "  'classic': False,\n",
              "  'example': True,\n",
              "  'strong': False,\n",
              "  'voice': False,\n",
              "  'daughter': False,\n",
              "  'hope': False,\n",
              "  'theater': True,\n",
              "  'situation': False,\n",
              "  'production': False,\n",
              "  'sort': False,\n",
              "  'thriller': False,\n",
              "  'close': False,\n",
              "  'event': False,\n",
              "  'white': False,\n",
              "  'dog': False,\n",
              "  'talent': True,\n",
              "  'break': False,\n",
              "  'kevin': False,\n",
              "  'joe': False,\n",
              "  'drama': False,\n",
              "  'body': True,\n",
              "  'worth': False,\n",
              "  'earth': True,\n",
              "  'heart': False,\n",
              "  'bring': False,\n",
              "  'short': False,\n",
              "  'cut': False,\n",
              "  'version': False,\n",
              "  'level': False,\n",
              "  'self': False,\n",
              "  'dark': False,\n",
              "  'room': False,\n",
              "  'dream': False,\n",
              "  'cop': False,\n",
              "  'opening': False,\n",
              "  'nearly': False,\n",
              "  'upon': True,\n",
              "  'screenplay': True,\n",
              "  'experience': False,\n",
              "  'ask': False,\n",
              "  'light': False,\n",
              "  'art': False,\n",
              "  'violence': False,\n",
              "  'age': False,\n",
              "  'major': False,\n",
              "  'throughout': False,\n",
              "  'figure': False,\n",
              "  'ship': False,\n",
              "  'direction': False,\n",
              "  'beautiful': False,\n",
              "  'computer': False,\n",
              "  'jack': False,\n",
              "  'exactly': False,\n",
              "  'state': True,\n",
              "  'realize': False,\n",
              "  'obvious': False,\n",
              "  'genre': False,\n",
              "  'disney': False,\n",
              "  'plan': True,\n",
              "  'already': False,\n",
              "  'number': True,\n",
              "  'others': False,\n",
              "  'fill': False,\n",
              "  'space': True,\n",
              "  'wait': False,\n",
              "  'waste': False,\n",
              "  'guess': False,\n",
              "  'five': True,\n",
              "  'deep': False,\n",
              "  'simple': False,\n",
              "  'offer': False,\n",
              "  'jackie': False,\n",
              "  'four': False,\n",
              "  'form': False,\n",
              "  'surprise': False,\n",
              "  'learn': False,\n",
              "  'twist': False,\n",
              "  'king': False,\n",
              "  'touch': True,\n",
              "  'pull': False,\n",
              "  'walk': False,\n",
              "  'chase': False,\n",
              "  'career': False,\n",
              "  'flick': False,\n",
              "  'rise': False,\n",
              "  'sometimes': False,\n",
              "  'novel': False,\n",
              "  'oscar': False,\n",
              "  'hold': True,\n",
              "  'member': False,\n",
              "  'truly': False,\n",
              "  'battle': False,\n",
              "  'filmmaker': False,\n",
              "  '1': True,\n",
              "  'tom': False,\n",
              "  'husband': False,\n",
              "  'boring': False,\n",
              "  'easy': False,\n",
              "  'pace': False,\n",
              "  'drug': False,\n",
              "  'lee': False,\n",
              "  'peter': False,\n",
              "  'god': False,\n",
              "  'sequel': True,\n",
              "  'type': False,\n",
              "  'york': False,\n",
              "  'planet': False,\n",
              "  'fiction': False,\n",
              "  'charm': False,\n",
              "  'carry': False,\n",
              "  'win': False,\n",
              "  'happens': False,\n",
              "  'parent': False,\n",
              "  'yes': False,\n",
              "  'saw': False,\n",
              "  'song': False,\n",
              "  'stupid': True,\n",
              "  'remember': False,\n",
              "  'tale': False,\n",
              "  'score': False,\n",
              "  'quickly': False,\n",
              "  'romantic': False,\n",
              "  'possible': False,\n",
              "  'gun': False,\n",
              "  'chance': False,\n",
              "  'villain': False,\n",
              "  'extremely': False,\n",
              "  'manages': False,\n",
              "  'material': False,\n",
              "  'attention': True,\n",
              "  'future': True,\n",
              "  'de': False,\n",
              "  'mostly': False,\n",
              "  'particularly': False,\n",
              "  'project': False,\n",
              "  'single': False,\n",
              "  'focus': False,\n",
              "  'escape': False,\n",
              "  'quality': True,\n",
              "  'paul': False,\n",
              "  'police': False,\n",
              "  'none': False,\n",
              "  'mention': False,\n",
              "  'co': False,\n",
              "  'van': False,\n",
              "  'eventually': False,\n",
              "  'hell': False,\n",
              "  'decide': False,\n",
              "  'crime': False,\n",
              "  'stay': False,\n",
              "  'wild': False,\n",
              "  'emotional': False,\n",
              "  'science': False,\n",
              "  'image': False,\n",
              "  'dr': True,\n",
              "  'sit': False,\n",
              "  'shoot': False,\n",
              "  'smith': False,\n",
              "  'large': False,\n",
              "  'girlfriend': True,\n",
              "  'pay': False,\n",
              "  'living': False,\n",
              "  'steal': True,\n",
              "  'detail': False,\n",
              "  'rock': False,\n",
              "  'drive': False,\n",
              "  'low': False,\n",
              "  'success': False,\n",
              "  'actress': False,\n",
              "  'george': False,\n",
              "  'theme': False,\n",
              "  'alone': False,\n",
              "  'television': True,\n",
              "  'obviously': False,\n",
              "  'cover': False,\n",
              "  'million': False,\n",
              "  'usually': False,\n",
              "  'within': False,\n",
              "  'water': False,\n",
              "  'among': False,\n",
              "  'cause': False,\n",
              "  'premise': False,\n",
              "  'middle': False,\n",
              "  'secret': True,\n",
              "  'complete': True,\n",
              "  'aspect': False,\n",
              "  'read': False,\n",
              "  '3': False,\n",
              "  'understand': False,\n",
              "  'across': False,\n",
              "  'subject': False,\n",
              "  'flaw': False,\n",
              "  'except': False,\n",
              "  'chris': False,\n",
              "  'poor': False,\n",
              "  'mission': False,\n",
              "  'slow': False,\n",
              "  'history': False,\n",
              "  'local': False,\n",
              "  'whether': False,\n",
              "  'wonderful': False,\n",
              "  'reality': False,\n",
              "  'agent': True,\n",
              "  'amaze': False,\n",
              "  'oh': False,\n",
              "  'law': False,\n",
              "  'crew': False,\n",
              "  'serious': False,\n",
              "  'effort': False,\n",
              "  'important': False,\n",
              "  'happy': False,\n",
              "  'motion': False,\n",
              "  'impressive': False,\n",
              "  'studio': False,\n",
              "  'mark': False,\n",
              "  'explain': False,\n",
              "  'near': False,\n",
              "  'america': False,\n",
              "  'stuff': False,\n",
              "  'office': False,\n",
              "  'told': False,\n",
              "  'street': False,\n",
              "  'entertainment': False,\n",
              "  'basically': False,\n",
              "  'cool': False,\n",
              "  'recent': False,\n",
              "  'robin': False,\n",
              "  'produce': False,\n",
              "  'easily': False,\n",
              "  'apparently': False,\n",
              "  'ryan': False,\n",
              "  'mystery': True,\n",
              "  'party': False,\n",
              "  'williams': False,\n",
              "  'message': False,\n",
              "  'vampire': False,\n",
              "  'wish': False,\n",
              "  'attack': False,\n",
              "  'screenwriter': False,\n",
              "  'somehow': False,\n",
              "  'lie': False,\n",
              "  'bill': False,\n",
              "  'william': False,\n",
              "  'fear': False,\n",
              "  'blood': False,\n",
              "  'fast': False,\n",
              "  'control': False,\n",
              "  'fire': False,\n",
              "  'jones': False,\n",
              "  'batman': False,\n",
              "  'doubt': False,\n",
              "  'brings': False,\n",
              "  'suspense': False,\n",
              "  'producer': False,\n",
              "  'straight': False,\n",
              "  'hilarious': True,\n",
              "  'difficult': False,\n",
              "  'red': False,\n",
              "  'appeal': False,\n",
              "  'certain': False,\n",
              "  'ago': False,\n",
              "  'romance': False,\n",
              "  'ben': False,\n",
              "  'country': False,\n",
              "  'approach': False,\n",
              "  'popular': True,\n",
              "  'company': False,\n",
              "  'due': False,\n",
              "  'business': False,\n",
              "  'effective': False,\n",
              "  'presence': False,\n",
              "  'throw': True,\n",
              "  'answer': False,\n",
              "  'fly': False,\n",
              "  'annoy': False,\n",
              "  'adult': False,\n",
              "  'confuse': False,\n",
              "  'critic': False,\n",
              "  'trouble': False,\n",
              "  'teen': False,\n",
              "  'smart': False,\n",
              "  'fail': False,\n",
              "  'third': True,\n",
              "  'dramatic': False,\n",
              "  'general': False,\n",
              "  'class': False,\n",
              "  'budget': False,\n",
              "  'speak': True,\n",
              "  'rich': False,\n",
              "  'sexual': False,\n",
              "  'date': False,\n",
              "  'discover': False,\n",
              "  'clear': False,\n",
              "  'us': True,\n",
              "  'anyway': False,\n",
              "  'surprisingly': False,\n",
              "  '4': False,\n",
              "  'personal': False,\n",
              "  'emotion': True,\n",
              "  'share': False,\n",
              "  'decides': False,\n",
              "  'cross': False,\n",
              "  'somewhat': False,\n",
              "  'ability': False,\n",
              "  'rat': False,\n",
              "  'choice': False,\n",
              "  'harry': False,\n",
              "  'jim': False,\n",
              "  'excite': False,\n",
              "  'similar': False,\n",
              "  'prison': False,\n",
              "  'successful': False,\n",
              "  'former': False,\n",
              "  'previous': False,\n",
              "  'cinema': False,\n",
              "  'sister': False,\n",
              "  'absolutely': False,\n",
              "  'strange': False,\n",
              "  'student': False,\n",
              "  'allow': False,\n",
              "  'leaf': True,\n",
              "  'excellent': False,\n",
              "  'familiar': False,\n",
              "  'intelligent': False,\n",
              "  'rule': False,\n",
              "  'dance': True,\n",
              "  'predictable': False,\n",
              "  'towards': False,\n",
              "  'powerful': False,\n",
              "  'giant': False,\n",
              "  'bob': False,\n",
              "  'beyond': True,\n",
              "  'shock': False,\n",
              "  'animate': False,\n",
              "  'box': False,\n",
              "  'b': False,\n",
              "  'visual': False,\n",
              "  'victim': False,\n",
              "  'nature': False,\n",
              "  'r': False,\n",
              "  'la': False,\n",
              "  'trailer': False,\n",
              "  'sam': False,\n",
              "  'deliver': False,\n",
              "  'tone': False,\n",
              "  'clever': True,\n",
              "  'catch': False,\n",
              "  'definitely': False,\n",
              "  'martin': False,\n",
              "  'usual': False,\n",
              "  'blue': False,\n",
              "  'felt': True,\n",
              "  'murphy': True,\n",
              "  'master': False,\n",
              "  'brilliant': False,\n",
              "  'scary': False,\n",
              "  'suspect': False,\n",
              "  'manage': False,\n",
              "  'stone': False,\n",
              "  'wedding': False,\n",
              "  'bunch': False,\n",
              "  'capture': False,\n",
              "  'solid': False,\n",
              "  'appearance': False,\n",
              "  'reveal': False,\n",
              "  'musical': False,\n",
              "  'land': False,\n",
              "  'mess': False,\n",
              "  'rating': False,\n",
              "  'favorite': False,\n",
              "  'pick': False,\n",
              "  'travel': True,\n",
              "  'handle': True,\n",
              "  'reach': False,\n",
              "  'treat': False,\n",
              "  'seriously': False,\n",
              "  'grow': False,\n",
              "  'potential': False,\n",
              "  'free': False,\n",
              "  'wear': False,\n",
              "  'track': False,\n",
              "  'hunt': False,\n",
              "  'huge': False,\n",
              "  'search': False,\n",
              "  'amount': False,\n",
              "  'continue': False,\n",
              "  'week': False,\n",
              "  'unlike': False,\n",
              "  'l': False,\n",
              "  'married': False,\n",
              "  'sweet': False,\n",
              "  'join': False,\n",
              "  'non': False,\n",
              "  'perfectly': False,\n",
              "  'issue': False,\n",
              "  'hate': False,\n",
              "  'park': False,\n",
              "  'ex': False,\n",
              "  'adventure': True,\n",
              "  'scott': True,\n",
              "  'enjoyable': False,\n",
              "  'decent': False,\n",
              "  'bond': False,\n",
              "  'likely': False,\n",
              "  'e': False,\n",
              "  'strike': False,\n",
              "  'depth': False,\n",
              "  'immediately': False,\n",
              "  'heard': False,\n",
              "  'private': False,\n",
              "  'frank': False,\n",
              "  'cameron': False,\n",
              "  'ten': False,\n",
              "  'truman': False,\n",
              "  'door': False,\n",
              "  'bruce': False,\n",
              "  'monster': False,\n",
              "  'fails': False,\n",
              "  'overall': False,\n",
              "  'inside': False,\n",
              "  'carter': False,\n",
              "  'race': False,\n",
              "  'impossible': False,\n",
              "  'richard': False,\n",
              "  'cold': False,\n",
              "  'toy': False,\n",
              "  'step': False,\n",
              "  'purpose': False,\n",
              "  'truth': False,\n",
              "  'particular': False,\n",
              "  'merely': False,\n",
              "  'trek': False,\n",
              "  'gag': True,\n",
              "  'prove': False,\n",
              "  'air': False,\n",
              "  'sight': False,\n",
              "  'struggle': False,\n",
              "  'sign': False,\n",
              "  'color': False,\n",
              "  'neither': False,\n",
              "  'mar': False,\n",
              "  'design': False,\n",
              "  'ultimately': False,\n",
              "  'drop': False,\n",
              "  'club': True,\n",
              "  'personality': False,\n",
              "  'thrill': False,\n",
              "  'brought': False,\n",
              "  'modern': False,\n",
              "  'list': False,\n",
              "  'spirit': False,\n",
              "  'pop': False,\n",
              "  'otherwise': False,\n",
              "  '5': False,\n",
              "  'term': False,\n",
              "  'wood': False,\n",
              "  'society': False,\n",
              "  'allen': False,\n",
              "  'tim': False,\n",
              "  'cliche': False,\n",
              "  'key': False,\n",
              "  'player': False,\n",
              "  'government': False,\n",
              "  'dumb': False,\n",
              "  'fashion': False,\n",
              "  'opportunity': False,\n",
              "  'amuse': False,\n",
              "  'political': False,\n",
              "  'succeed': False,\n",
              "  'serve': False,\n",
              "  'talented': False,\n",
              "  'west': False,\n",
              "  'various': False,\n",
              "  'development': True,\n",
              "  'sell': False,\n",
              "  'soundtrack': False,\n",
              "  'mouth': False,\n",
              "  'army': False,\n",
              "  'angel': False,\n",
              "  'raise': False,\n",
              "  'english': False,\n",
              "  'silly': False,\n",
              "  'female': False,\n",
              "  'haunt': False,\n",
              "  'introduce': False,\n",
              "  'slightly': False,\n",
              "  'month': False,\n",
              "  'train': False,\n",
              "  'steve': False,\n",
              "  'hank': False,\n",
              "  'detective': False,\n",
              "  'spend': False,\n",
              "  'kiss': False,\n",
              "  'imagine': False,\n",
              "  'require': False,\n",
              "  'lover': False,\n",
              "  'tension': False,\n",
              "  'roll': False,\n",
              "  'eddie': True,\n",
              "  'compare': False,\n",
              "  'foot': False,\n",
              "  'grace': False,\n",
              "  'today': False,\n",
              "  'disaster': False,\n",
              "  'chan': False,\n",
              "  'creature': False,\n",
              "  'baby': False,\n",
              "  'memorable': True,\n",
              "  'heavy': False,\n",
              "  'six': False,\n",
              "  'max': False,\n",
              "  'award': False,\n",
              "  '90': False,\n",
              "  'cannot': False,\n",
              "  'hill': False,\n",
              "  'ground': False,\n",
              "  'totally': False,\n",
              "  'background': False,\n",
              "  'rescue': False,\n",
              "  'episode': False,\n",
              "  'woody': False,\n",
              "  'respect': False,\n",
              "  'front': False,\n",
              "  'leader': False,\n",
              "  'notice': False,\n",
              "  'soldier': False,\n",
              "  'fi': False,\n",
              "  'ape': False,\n",
              "  'machine': True,\n",
              "  'animation': False,\n",
              "  'hop': False,\n",
              "  'edit': False,\n",
              "  'engage': False,\n",
              "  'arm': False,\n",
              "  'sci': False,\n",
              "  'mary': False,\n",
              "  'ride': False,\n",
              "  'costume': False,\n",
              "  'doctor': False,\n",
              "  'terrible': False,\n",
              "  'simon': False,\n",
              "  'constantly': True,\n",
              "  'impact': False,\n",
              "  'steven': False,\n",
              "  'entirely': False,\n",
              "  'british': False,\n",
              "  'actual': False,\n",
              "  'standard': False,\n",
              "  'minor': False,\n",
              "  'fantasy': False,\n",
              "  'suffer': False,\n",
              "  'convincing': False,\n",
              "  'queen': False,\n",
              "  'promise': False,\n",
              "  '8': True,\n",
              "  'brief': True,\n",
              "  'ridiculous': False,\n",
              "  'typical': False,\n",
              "  'quick': False,\n",
              "  'spent': False,\n",
              "  'rush': False,\n",
              "  'island': False,\n",
              "  'cinematography': False,\n",
              "  'nick': False,\n",
              "  'officer': False,\n",
              "  'animal': False,\n",
              "  'menace': False,\n",
              "  'atmosphere': False,\n",
              "  'trip': True,\n",
              "  'road': False,\n",
              "  'bug': False,\n",
              "  'subtle': False,\n",
              "  'violent': False,\n",
              "  'double': False,\n",
              "  'partner': False,\n",
              "  'grant': False,\n",
              "  'building': False,\n",
              "  'adam': False,\n",
              "  'dollar': False,\n",
              "  'cameo': False,\n",
              "  'fairly': False,\n",
              "  'inspire': False,\n",
              "  'seven': False,\n",
              "  'concept': False,\n",
              "  'suddenly': False,\n",
              "  'cheap': False,\n",
              "  'willis': False,\n",
              "  'dress': False,\n",
              "  'beauty': False,\n",
              "  'president': True,\n",
              "  'store': False,\n",
              "  'whatever': False,\n",
              "  'highly': False,\n",
              "  'bore': False,\n",
              "  'college': False,\n",
              "  'remain': False,\n",
              "  'complex': False,\n",
              "  'mike': True,\n",
              "  'flat': True,\n",
              "  'recommend': False,\n",
              "  'pair': False,\n",
              "  'suit': False,\n",
              "  'basic': False,\n",
              "  'indeed': False,\n",
              "  'dull': False,\n",
              "  'ii': False,\n",
              "  'recently': False,\n",
              "  'kick': False,\n",
              "  'plenty': False,\n",
              "  'frame': False,\n",
              "  'outside': False,\n",
              "  'brain': False,\n",
              "  'titanic': False,\n",
              "  'cute': False,\n",
              "  'godzilla': False,\n",
              "  'climax': False,\n",
              "  'cinematic': False,\n",
              "  'meanwhile': False,\n",
              "  'intrigue': False,\n",
              "  'x': False,\n",
              "  'clearly': False,\n",
              "  'awful': False,\n",
              "  'hear': False,\n",
              "  'buddy': False,\n",
              "  'prof': False,\n",
              "  'tough': False,\n",
              "  'longer': False,\n",
              "  'forget': False,\n",
              "  'lawyer': False,\n",
              "  'protagonist': False,\n",
              "  'believable': False,\n",
              "  'chemistry': False,\n",
              "  'conclusion': False,\n",
              "  'sean': False,\n",
              "  'realistic': False,\n",
              "  'common': False,\n",
              "  'century': False,\n",
              "  'period': False,\n",
              "  'scientist': False,\n",
              "  'admit': False,\n",
              "  'possibly': False,\n",
              "  'language': False,\n",
              "  'band': False,\n",
              "  'encounter': False,\n",
              "  'brown': False,\n",
              "  'hang': False,\n",
              "  'aside': False,\n",
              "  'twenty': False,\n",
              "  'camp': False,\n",
              "  'carrey': False,\n",
              "  'male': False,\n",
              "  'french': False,\n",
              "  'sing': False,\n",
              "  'jerry': True,\n",
              "  'hot': False,\n",
              "  'jackson': False,\n",
              "  'system': False,\n",
              "  'thin': False,\n",
              "  'somewhere': False,\n",
              "  'slowly': False,\n",
              "  'delivers': False,\n",
              "  'center': False,\n",
              "  'witch': False,\n",
              "  ...},\n",
              " 'pos')"
            ]
          },
          "metadata": {
            "tags": []
          },
          "execution_count": 34
        }
      ]
    },
    {
      "metadata": {
        "id": "g8s5u510qgHq",
        "colab_type": "code",
        "colab": {}
      },
      "cell_type": "code",
      "source": [
        "# we created the data in this format beacuse the nltk naive bayes classifier needs the data in this format -- array of tuples  in which\n",
        "#  the first element is the feature  dictionary and the second is the category of the doc"
      ],
      "execution_count": 0,
      "outputs": []
    },
    {
      "metadata": {
        "id": "4QWpUTj8rB03",
        "colab_type": "code",
        "colab": {}
      },
      "cell_type": "code",
      "source": [
        "from nltk import NaiveBayesClassifier"
      ],
      "execution_count": 0,
      "outputs": []
    },
    {
      "metadata": {
        "id": "1oHLgpKdrMue",
        "colab_type": "code",
        "colab": {}
      },
      "cell_type": "code",
      "source": [
        "classifier=NaiveBayesClassifier.train(training_data)"
      ],
      "execution_count": 0,
      "outputs": []
    },
    {
      "metadata": {
        "id": "0utTpwCjrS0b",
        "colab_type": "code",
        "colab": {
          "base_uri": "https://localhost:8080/",
          "height": 35
        },
        "outputId": "98483d86-77c6-4cdd-cfd9-38984f26ffb6"
      },
      "cell_type": "code",
      "source": [
        "nltk.classify.accuracy(classifier,testing_data)"
      ],
      "execution_count": 0,
      "outputs": [
        {
          "output_type": "execute_result",
          "data": {
            "text/plain": [
              "0.8"
            ]
          },
          "metadata": {
            "tags": []
          },
          "execution_count": 38
        }
      ]
    },
    {
      "metadata": {
        "id": "fzCpY74JriOr",
        "colab_type": "code",
        "colab": {
          "base_uri": "https://localhost:8080/",
          "height": 308
        },
        "outputId": "cc7ef339-8150-464b-935f-b6145ff362af"
      },
      "cell_type": "code",
      "source": [
        "classifier.show_most_informative_features(15)"
      ],
      "execution_count": 0,
      "outputs": [
        {
          "output_type": "stream",
          "text": [
            "Most Informative Features\n",
            "                   damon = True              pos : neg    =     16.2 : 1.0\n",
            "                  seagal = True              neg : pos    =     13.1 : 1.0\n",
            "               ludicrous = True              neg : pos    =     11.5 : 1.0\n",
            "                  tucker = True              pos : neg    =     10.9 : 1.0\n",
            "             outstanding = True              pos : neg    =     10.3 : 1.0\n",
            "                   inept = True              neg : pos    =      8.5 : 1.0\n",
            "               portrayed = True              pos : neg    =      8.4 : 1.0\n",
            "                 freddie = True              neg : pos    =      8.4 : 1.0\n",
            "                  prinze = True              neg : pos    =      7.7 : 1.0\n",
            "                   anger = True              pos : neg    =      7.5 : 1.0\n",
            "              schumacher = True              neg : pos    =      7.0 : 1.0\n",
            "                  alicia = True              neg : pos    =      7.0 : 1.0\n",
            "                   mulan = True              pos : neg    =      7.0 : 1.0\n",
            "                 idiotic = True              neg : pos    =      6.8 : 1.0\n",
            "                    yell = True              neg : pos    =      6.6 : 1.0\n"
          ],
          "name": "stdout"
        }
      ]
    },
    {
      "metadata": {
        "id": "1iOr_QBNsBON",
        "colab_type": "code",
        "colab": {}
      },
      "cell_type": "code",
      "source": [
        "# now lets experiment with the skleran classifiers \n",
        "# for  this we  dont need to change our dataformat ,  that is done by the nltk classifier by itself "
      ],
      "execution_count": 0,
      "outputs": []
    },
    {
      "metadata": {
        "id": "Z_8bGeQ9nu76",
        "colab_type": "code",
        "colab": {}
      },
      "cell_type": "code",
      "source": [
        "from sklearn.svm import SVC\n",
        "from nltk.classify.scikitlearn import SklearnClassifier"
      ],
      "execution_count": 0,
      "outputs": []
    },
    {
      "metadata": {
        "id": "2_E5148KoCiH",
        "colab_type": "code",
        "colab": {}
      },
      "cell_type": "code",
      "source": [
        "svc=SVC()\n",
        "classifier_sklearn=SklearnClassifier(svc)"
      ],
      "execution_count": 0,
      "outputs": []
    },
    {
      "metadata": {
        "id": "8EfjDvMXovSZ",
        "colab_type": "code",
        "colab": {
          "base_uri": "https://localhost:8080/",
          "height": 90
        },
        "outputId": "6431c91e-dca7-4e23-8ea2-1e1ce18956a6"
      },
      "cell_type": "code",
      "source": [
        "classifier_sklearn.train(training_data)"
      ],
      "execution_count": 0,
      "outputs": [
        {
          "output_type": "execute_result",
          "data": {
            "text/plain": [
              "<SklearnClassifier(SVC(C=1.0, cache_size=200, class_weight=None, coef0=0.0,\n",
              "  decision_function_shape='ovr', degree=3, gamma='auto', kernel='rbf',\n",
              "  max_iter=-1, probability=False, random_state=None, shrinking=True,\n",
              "  tol=0.001, verbose=False))>"
            ]
          },
          "metadata": {
            "tags": []
          },
          "execution_count": 49
        }
      ]
    },
    {
      "metadata": {
        "id": "mi-Y20NQoWiO",
        "colab_type": "code",
        "colab": {
          "base_uri": "https://localhost:8080/",
          "height": 35
        },
        "outputId": "2af2ecac-8c46-493f-f7c5-d1df4201031d"
      },
      "cell_type": "code",
      "source": [
        "nltk.classify.accuracy(classifier_sklearn,training_data)"
      ],
      "execution_count": 0,
      "outputs": [
        {
          "output_type": "execute_result",
          "data": {
            "text/plain": [
              "0.82"
            ]
          },
          "metadata": {
            "tags": []
          },
          "execution_count": 52
        }
      ]
    },
    {
      "metadata": {
        "id": "__xMW3ISocek",
        "colab_type": "code",
        "colab": {}
      },
      "cell_type": "code",
      "source": [
        "from  sklearn.feature_extraction.text import CountVectorizer"
      ],
      "execution_count": 0,
      "outputs": []
    },
    {
      "metadata": {
        "id": "7PoR3GbGwo9O",
        "colab_type": "code",
        "colab": {}
      },
      "cell_type": "code",
      "source": [
        "train_Set=[\"the  sky is blue\",\"the sun is bright\"]\n",
        "con_vec=CountVectorizer(max_features=3)"
      ],
      "execution_count": 0,
      "outputs": []
    },
    {
      "metadata": {
        "id": "tLlpHxcJw7RF",
        "colab_type": "code",
        "colab": {}
      },
      "cell_type": "code",
      "source": [
        "a=con_vec.fit_transform(train_Set)"
      ],
      "execution_count": 0,
      "outputs": []
    },
    {
      "metadata": {
        "id": "0s-__wuJxBVs",
        "colab_type": "code",
        "colab": {
          "base_uri": "https://localhost:8080/",
          "height": 54
        },
        "outputId": "7dadfedc-9b8e-4df2-f87e-279249172630"
      },
      "cell_type": "code",
      "source": [
        "a"
      ],
      "execution_count": 0,
      "outputs": [
        {
          "output_type": "execute_result",
          "data": {
            "text/plain": [
              "<2x3 sparse matrix of type '<class 'numpy.int64'>'\n",
              "\twith 5 stored elements in Compressed Sparse Row format>"
            ]
          },
          "metadata": {
            "tags": []
          },
          "execution_count": 69
        }
      ]
    },
    {
      "metadata": {
        "id": "IHUlZNP9xK3B",
        "colab_type": "code",
        "colab": {
          "base_uri": "https://localhost:8080/",
          "height": 54
        },
        "outputId": "d50221b4-162f-4b7a-9db1-12751ba18611"
      },
      "cell_type": "code",
      "source": [
        "a.todense()"
      ],
      "execution_count": 0,
      "outputs": [
        {
          "output_type": "execute_result",
          "data": {
            "text/plain": [
              "matrix([[1, 1, 1],\n",
              "        [0, 1, 1]], dtype=int64)"
            ]
          },
          "metadata": {
            "tags": []
          },
          "execution_count": 70
        }
      ]
    },
    {
      "metadata": {
        "id": "O_AUBXV9xMir",
        "colab_type": "code",
        "colab": {
          "base_uri": "https://localhost:8080/",
          "height": 35
        },
        "outputId": "0fde887f-8cc8-4283-a399-917c1d41275e"
      },
      "cell_type": "code",
      "source": [
        "con_vec.get_feature_names()"
      ],
      "execution_count": 0,
      "outputs": [
        {
          "output_type": "execute_result",
          "data": {
            "text/plain": [
              "['blue', 'is', 'the']"
            ]
          },
          "metadata": {
            "tags": []
          },
          "execution_count": 71
        }
      ]
    },
    {
      "metadata": {
        "id": "Bb6ro6gYxgUA",
        "colab_type": "code",
        "colab": {
          "base_uri": "https://localhost:8080/",
          "height": 35
        },
        "outputId": "f51d8e57-73b1-4e25-9006-a4f0b3a5a565"
      },
      "cell_type": "code",
      "source": [
        "len(documents)"
      ],
      "execution_count": 0,
      "outputs": [
        {
          "output_type": "execute_result",
          "data": {
            "text/plain": [
              "2000"
            ]
          },
          "metadata": {
            "tags": []
          },
          "execution_count": 72
        }
      ]
    },
    {
      "metadata": {
        "id": "ho27lkubyR3-",
        "colab_type": "code",
        "colab": {}
      },
      "cell_type": "code",
      "source": [
        "categories=[ category for documents,category in documents]"
      ],
      "execution_count": 0,
      "outputs": []
    },
    {
      "metadata": {
        "id": "-JMx_fbIzM5A",
        "colab_type": "code",
        "colab": {}
      },
      "cell_type": "code",
      "source": [
        "text_documents=[\" \".join(documents) for documents,category in documents]"
      ],
      "execution_count": 0,
      "outputs": []
    },
    {
      "metadata": {
        "id": "2uiliWLkzTQc",
        "colab_type": "code",
        "colab": {
          "base_uri": "https://localhost:8080/",
          "height": 35
        },
        "outputId": "aa43f4e8-69f4-43c1-bbe3-4921a9c3fb4c"
      },
      "cell_type": "code",
      "source": [
        "len(text_documents)"
      ],
      "execution_count": 0,
      "outputs": [
        {
          "output_type": "execute_result",
          "data": {
            "text/plain": [
              "2000"
            ]
          },
          "metadata": {
            "tags": []
          },
          "execution_count": 77
        }
      ]
    },
    {
      "metadata": {
        "id": "7zLWjc8szfAG",
        "colab_type": "code",
        "colab": {}
      },
      "cell_type": "code",
      "source": [
        "from sklearn.model_selection import  train_test_split"
      ],
      "execution_count": 0,
      "outputs": []
    },
    {
      "metadata": {
        "id": "2qmZu6Nzzoxc",
        "colab_type": "code",
        "colab": {}
      },
      "cell_type": "code",
      "source": [
        "x_train,x_test,y_train,y_test=train_test_split(text_documents,categories)"
      ],
      "execution_count": 0,
      "outputs": []
    },
    {
      "metadata": {
        "id": "Dq3_GG7pzyEa",
        "colab_type": "code",
        "colab": {
          "base_uri": "https://localhost:8080/",
          "height": 35
        },
        "outputId": "d8f32f9e-024f-4614-8712-0e68d2745125"
      },
      "cell_type": "code",
      "source": [
        "len(x_train),len(x_test)"
      ],
      "execution_count": 0,
      "outputs": [
        {
          "output_type": "execute_result",
          "data": {
            "text/plain": [
              "(1500, 500)"
            ]
          },
          "metadata": {
            "tags": []
          },
          "execution_count": 124
        }
      ]
    },
    {
      "metadata": {
        "id": "cCEtEuBh2jAG",
        "colab_type": "code",
        "colab": {
          "base_uri": "https://localhost:8080/",
          "height": 35
        },
        "outputId": "dc219772-442e-4bbc-ef70-dcfd5f1fa8c1"
      },
      "cell_type": "code",
      "source": [
        "len(y_train)"
      ],
      "execution_count": 0,
      "outputs": [
        {
          "output_type": "execute_result",
          "data": {
            "text/plain": [
              "1500"
            ]
          },
          "metadata": {
            "tags": []
          },
          "execution_count": 128
        }
      ]
    },
    {
      "metadata": {
        "id": "8O-RjKdMz0B5",
        "colab_type": "code",
        "colab": {}
      },
      "cell_type": "code",
      "source": [
        "con_vec2=CountVectorizer(max_features=2000,ngram_range=(1,3))"
      ],
      "execution_count": 0,
      "outputs": []
    },
    {
      "metadata": {
        "id": "ehjteKDwz9Gc",
        "colab_type": "code",
        "colab": {}
      },
      "cell_type": "code",
      "source": [
        "x_train_features=con_vec2.fit_transform(x_train)"
      ],
      "execution_count": 0,
      "outputs": []
    },
    {
      "metadata": {
        "id": "JzOa7RHI0C1G",
        "colab_type": "code",
        "colab": {}
      },
      "cell_type": "code",
      "source": [
        "x_train_features1=x_train_features.todense()"
      ],
      "execution_count": 0,
      "outputs": []
    },
    {
      "metadata": {
        "id": "cTy0yPJG0Eqi",
        "colab_type": "code",
        "colab": {}
      },
      "cell_type": "code",
      "source": [
        "x_test_features=con_vec2.transform(x_test)"
      ],
      "execution_count": 0,
      "outputs": []
    },
    {
      "metadata": {
        "id": "ee8Fdo-91jsp",
        "colab_type": "code",
        "colab": {}
      },
      "cell_type": "code",
      "source": [
        "x_test_features1=x_test_features.todense()"
      ],
      "execution_count": 0,
      "outputs": []
    },
    {
      "metadata": {
        "id": "F4DjbGVu11jc",
        "colab_type": "code",
        "colab": {}
      },
      "cell_type": "code",
      "source": [
        ""
      ],
      "execution_count": 0,
      "outputs": []
    },
    {
      "metadata": {
        "id": "HhnG7wrV0Jy-",
        "colab_type": "code",
        "colab": {}
      },
      "cell_type": "code",
      "source": [
        "from sklearn.svm import SVC"
      ],
      "execution_count": 0,
      "outputs": []
    },
    {
      "metadata": {
        "id": "ZqC5dZEb0u2W",
        "colab_type": "code",
        "colab": {}
      },
      "cell_type": "code",
      "source": [
        "svc=SVC()"
      ],
      "execution_count": 0,
      "outputs": []
    },
    {
      "metadata": {
        "id": "l3wIs6aD03NV",
        "colab_type": "code",
        "colab": {
          "base_uri": "https://localhost:8080/",
          "height": 90
        },
        "outputId": "ebaee8ca-df49-435e-b82b-46f0fe1cdffb"
      },
      "cell_type": "code",
      "source": [
        "svc.fit(x_train_features1,y_train)"
      ],
      "execution_count": 0,
      "outputs": [
        {
          "output_type": "execute_result",
          "data": {
            "text/plain": [
              "SVC(C=1.0, cache_size=200, class_weight=None, coef0=0.0,\n",
              "  decision_function_shape='ovr', degree=3, gamma='auto', kernel='rbf',\n",
              "  max_iter=-1, probability=False, random_state=None, shrinking=True,\n",
              "  tol=0.001, verbose=False)"
            ]
          },
          "metadata": {
            "tags": []
          },
          "execution_count": 148
        }
      ]
    },
    {
      "metadata": {
        "id": "VuvCGOJm058E",
        "colab_type": "code",
        "colab": {}
      },
      "cell_type": "code",
      "source": [
        "y_pred=svc.predict(x_test_features1)"
      ],
      "execution_count": 0,
      "outputs": []
    },
    {
      "metadata": {
        "id": "4MvLmDuH22uf",
        "colab_type": "code",
        "colab": {
          "base_uri": "https://localhost:8080/",
          "height": 35
        },
        "outputId": "5dd9557c-ad81-406e-f11f-4c9f2a9dcd05"
      },
      "cell_type": "code",
      "source": [
        "svc.score(x_test_features1,y_test)"
      ],
      "execution_count": 0,
      "outputs": [
        {
          "output_type": "execute_result",
          "data": {
            "text/plain": [
              "0.832"
            ]
          },
          "metadata": {
            "tags": []
          },
          "execution_count": 150
        }
      ]
    },
    {
      "metadata": {
        "id": "OOeMevuL27Tc",
        "colab_type": "code",
        "colab": {}
      },
      "cell_type": "code",
      "source": [
        ""
      ],
      "execution_count": 0,
      "outputs": []
    }
  ]
}